{
 "cells": [
  {
   "cell_type": "code",
   "execution_count": 2,
   "metadata": {},
   "outputs": [],
   "source": [
    "import numpy as np\n",
    "import matplotlib.pyplot as plt\n",
    "import math as m\n",
    "from scipy import sparse"
   ]
  },
  {
   "cell_type": "code",
   "execution_count": 4,
   "metadata": {},
   "outputs": [],
   "source": [
    "def dNi_dNj_integral(xl):\n",
    "    Length = xl[1] - xl[0]\n",
    "    \n",
    "    integral_contribution = np.empty((2,2))\n",
    "    integral_contribution[0] = [1/Length,-1/Length]\n",
    "    integral_contribution[1] = [-1/Length,1/Length]\n",
    "    return integral_contribution"
   ]
  },
  {
   "cell_type": "code",
   "execution_count": null,
   "metadata": {},
   "outputs": [],
   "source": [
    "def Ni_Nj_integral(xl):\n",
    "    Length = xl[1] - xl[0]\n",
    "    \n",
    "    integral_contribution = np.empty((2,2))\n",
    "    integral_contribution[0] = [(Length)/3,(Length)/6]\n",
    "    integral_contribution[1] = [(Length)/6,(Length)/3]\n",
    "    return integral_contribution"
   ]
  },
  {
   "cell_type": "code",
   "execution_count": null,
   "metadata": {},
   "outputs": [],
   "source": [
    "# Here we assemble matrices F^1 and F^2\n",
    "\n",
    "F_1 = sparse.lil_matrix((Nn,Nn))\n",
    "F_2 = sparse.lil_matrix((Nn,Nn))\n",
    "\n",
    "\n",
    "for i in range(Ne):\n",
    "    nds_ = el_ld_no[i]\n",
    "    xl = x_no[nds_]\n",
    "    \n",
    "    f1e = dNi_dNj_integral(xl)\n",
    "    f2e = Ni_Nj_integral(xl)\n",
    "    \n",
    "    F_1[nds_[0],nds_] += f1e[0]\n",
    "    F_1[nds_[1],nds_] += f1e[1]\n",
    "    \n",
    "    F_2[nds_[0],nds_] += f2e[0]\n",
    "    F_2[nds_[1],nds_] += f2e[1]\n",
    "    "
   ]
  }
 ],
 "metadata": {
  "kernelspec": {
   "display_name": "Python 3",
   "language": "python",
   "name": "python3"
  },
  "language_info": {
   "codemirror_mode": {
    "name": "ipython",
    "version": 3
   },
   "file_extension": ".py",
   "mimetype": "text/x-python",
   "name": "python",
   "nbconvert_exporter": "python",
   "pygments_lexer": "ipython3",
   "version": "3.8.3"
  }
 },
 "nbformat": 4,
 "nbformat_minor": 4
}
