{
 "cells": [
  {
   "cell_type": "code",
   "execution_count": 1,
   "metadata": {},
   "outputs": [],
   "source": [
    "import numpy as np\n",
    "import matplotlib.pyplot as plt\n",
    "from matplotlib.patches import Circle\n",
    "import sys\n",
    "import os"
   ]
  },
  {
   "cell_type": "code",
   "execution_count": 2,
   "metadata": {},
   "outputs": [],
   "source": [
    "L_e = 0.1 # Length of emitter (cm)\n",
    "L_b = 0.1 # Length of base (cm)\n",
    "L_c = 0.1 # Length of collector (cm)\n",
    "\n",
    "L_j1 = 0.0004 #4um length of junction one (both sides length) (cm)\n",
    "L_j2 = 0.0004 #4um length of junction two (both sides length) (cm)\n",
    "\n",
    "#Number of segments in region\n",
    "N_e = 50 #Emitter away from junction\n",
    "N_j1 = 100 #Junction Emitter-Base\n",
    "N_b = 50 #Base away from junctions\n",
    "N_j2 = 100 #Junction Base-Collector\n",
    "N_c = 50 #Collector aways from junction\n",
    "\n",
    "#Element lengths\n",
    "dx_e = (L_e-(L_j1/2))/N_e #Emitter away from junction\n",
    "dx_j1 = L_j1/N_j1 #First junction E-B\n",
    "dx_b = (L_b-(L_j1/2)-(L_j2/2))/N_b #Base away from junction\n",
    "dx_j2 = L_j2/N_j2 #Second junction B-C\n",
    "dx_c = (L_c-(L_j2/2))/N_c #Collector away from junction\n",
    "\n",
    "Ne = N_e + N_j1 + N_b + N_j2 + N_c #Number of elements\n",
    "Nn = Ne + 1 #Number of nodes\n",
    "\n",
    "\n",
    "el_ld_no = np.empty([Ne,2]) # Array with nodes corresponding to an element i\n",
    "x_no = np.empty(Nn) # x coordinate of element i\n",
    "\n",
    "x_no[0] = 0\n",
    "\n",
    "n_count = 1\n",
    "e_count = 0\n",
    "\n",
    "for i in range(N_e):\n",
    "    el_ld_no[e_count] = [n_count-1,n_count]\n",
    "    x_no[n_count] = x_no[n_count-1] + dx_e\n",
    "    n_count += 1\n",
    "    e_count += 1\n",
    "\n",
    "for i in range(N_j1):\n",
    "    el_ld_no[e_count] = [n_count-1,n_count]\n",
    "    x_no[n_count] = x_no[n_count-1] + dx_j1\n",
    "    n_count += 1\n",
    "    e_count += 1\n",
    "    \n",
    "for i in range(N_b):\n",
    "    el_ld_no[e_count] = [n_count-1,n_count]\n",
    "    x_no[n_count] = x_no[n_count-1] + dx_b\n",
    "    n_count += 1\n",
    "    e_count += 1\n",
    "    \n",
    "for i in range(N_j2):\n",
    "    el_ld_no[e_count] = [n_count-1,n_count]\n",
    "    x_no[n_count] = x_no[n_count-1] + dx_j2\n",
    "    n_count += 1\n",
    "    e_count += 1\n",
    "    \n",
    "for i in range(N_c):\n",
    "    el_ld_no[e_count] = [n_count-1,n_count]\n",
    "    x_no[n_count] = x_no[n_count-1] + dx_c\n",
    "    n_count += 1\n",
    "    e_count += 1\n",
    "\n",
    "el_ld_no = el_ld_no.astype(int)"
   ]
  },
  {
   "cell_type": "code",
   "execution_count": null,
   "metadata": {},
   "outputs": [],
   "source": []
  },
  {
   "cell_type": "code",
   "execution_count": null,
   "metadata": {},
   "outputs": [],
   "source": []
  }
 ],
 "metadata": {
  "kernelspec": {
   "display_name": "Python 3",
   "language": "python",
   "name": "python3"
  },
  "language_info": {
   "codemirror_mode": {
    "name": "ipython",
    "version": 3
   },
   "file_extension": ".py",
   "mimetype": "text/x-python",
   "name": "python",
   "nbconvert_exporter": "python",
   "pygments_lexer": "ipython3",
   "version": "3.8.3"
  }
 },
 "nbformat": 4,
 "nbformat_minor": 4
}
