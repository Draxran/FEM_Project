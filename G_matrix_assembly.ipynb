{
 "cells": [
  {
   "cell_type": "code",
   "execution_count": 1,
   "metadata": {},
   "outputs": [],
   "source": [
    "import numpy as np\n",
    "import matplotlib.pyplot as plt\n",
    "import math as m\n",
    "from scipy import sparse"
   ]
  },
  {
   "cell_type": "code",
   "execution_count": 1,
   "metadata": {},
   "outputs": [],
   "source": [
    "def dNi_Nj_integral(xl):\n",
    "    Length = xl[1] - xl[0]\n",
    "    \n",
    "    integral_contribution = np.empty((2,2))\n",
    "    integral_contribution[0] = [-1/2,-1/2]\n",
    "    integral_contribution[1] = [1/2,1/2]\n",
    "    return integral_contribution"
   ]
  },
  {
   "cell_type": "code",
   "execution_count": null,
   "metadata": {},
   "outputs": [],
   "source": [
    "for i in range(Ne):\n",
    "    nds_ = el_ld_no[i]\n",
    "    xl = x_no[nds_]\n",
    "    \n",
    "    dV_i = V[nds_[1]] - V[nds_[0]] #Derivative of potential over element i\n",
    "    \n",
    "    \n",
    "    g1e = dNi_Nj_integral(xl)\n",
    "    \n",
    "    G_1[nds_[0],nds_] += dV_i*g1e[0]\n",
    "    G_1[nds_[1],nds_] += dV_i*g1e[1]\n",
    "    \n",
    "    "
   ]
  }
 ],
 "metadata": {
  "kernelspec": {
   "display_name": "Python 3",
   "language": "python",
   "name": "python3"
  },
  "language_info": {
   "codemirror_mode": {
    "name": "ipython",
    "version": 3
   },
   "file_extension": ".py",
   "mimetype": "text/x-python",
   "name": "python",
   "nbconvert_exporter": "python",
   "pygments_lexer": "ipython3",
   "version": "3.8.3"
  }
 },
 "nbformat": 4,
 "nbformat_minor": 4
}
