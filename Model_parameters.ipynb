{
 "cells": [
  {
   "cell_type": "code",
   "execution_count": 1,
   "metadata": {},
   "outputs": [],
   "source": [
    "import numpy as np\n",
    "import matplotlib.pyplot as plt"
   ]
  },
  {
   "cell_type": "code",
   "execution_count": 1,
   "metadata": {},
   "outputs": [],
   "source": [
    "#Normalization parameters\n",
    "t_norm = 1.583e-6 #time L^2/D (s)\n",
    "r_norm = 4.339e-3 #position L (cm)\n",
    "V_norm = 2.586e-2 #potential V_t = k*T/q (V)\n",
    "E_norm = 5.96 #electric field V_t/L (V/cm)\n",
    "n_norm = 8.954e9 #electron density n_i (1/cm^3) (same for holes)\n",
    "U_norm = 5.657e15 #recombination rate D*n_i/L^2 (1/(s*cm^3))\n",
    "gamma_norm = 11.896 #carrief diffusion D (cm^2/s)\n",
    "mu_norm = 460 #carrier mobility D/V_t (cm^2/(V*s))\n",
    "j_norm = 3.932e-6 #current density D*q*n_i/L (A/cm^2)"
   ]
  },
  {
   "cell_type": "code",
   "execution_count": 2,
   "metadata": {},
   "outputs": [],
   "source": [
    "mu_p = 4.5e2 #hole mobility (cm^2/(V*s) \n",
    "mu_n = 1.3e3 #electron mobility\n",
    "\n",
    "tau_p = 10e-6 #hole lifetime (s)\n",
    "tau_n = 10e-6 #electron lifetime\n",
    "\n",
    "D_p = mu_p*V_norm #hole diffusion coefficient (cm^2/s)\n",
    "D_n = mu_n*V_norm #electron diffusion coefficient\n",
    "\n",
    "gamma_p = gamma_norm/D_p\n",
    "gamma_n = gamma_norm/D_n\n",
    "\n",
    "N_DE = 1e16 #donor impurities concentration in emitter (1/cm^3)\n",
    "N_DC = 1e16 #donor impurities in collector\n",
    "N_AB = 1e16 #acceptor impurities in base"
   ]
  },
  {
   "cell_type": "code",
   "execution_count": null,
   "metadata": {},
   "outputs": [],
   "source": []
  }
 ],
 "metadata": {
  "kernelspec": {
   "display_name": "Python 3",
   "language": "python",
   "name": "python3"
  },
  "language_info": {
   "codemirror_mode": {
    "name": "ipython",
    "version": 3
   },
   "file_extension": ".py",
   "mimetype": "text/x-python",
   "name": "python",
   "nbconvert_exporter": "python",
   "pygments_lexer": "ipython3",
   "version": "3.8.3"
  }
 },
 "nbformat": 4,
 "nbformat_minor": 4
}
